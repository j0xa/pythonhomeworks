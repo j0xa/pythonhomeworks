{
 "cells": [
  {
   "cell_type": "code",
   "execution_count": 34,
   "metadata": {},
   "outputs": [
    {
     "name": "stdout",
     "output_type": "stream",
     "text": [
      "eveything good\n"
     ]
    }
   ],
   "source": [
    "password=str(input(\"enter your password: \"))\n",
    "if len(password)<=8:\n",
    "    print(\"Too short\")\n",
    "    count=0\n",
    "    for char in password:\n",
    "        if password[count].isupper()==False:\n",
    "            print(\"At least one uppercase required\")\n",
    "            break\n",
    "else:print(\"eveything good\")"
   ]
  },
  {
   "cell_type": "code",
   "execution_count": 106,
   "metadata": {},
   "outputs": [],
   "source": [
    "import random\n",
    "x=random.randrange(0,100)\n",
    "y=int(input(\"Guess: \"))\n",
    "guess=False\n",
    "if x!=y:\n",
    "    y=int(input(\"Guess again: \"))\n",
    "else: print(\"Corect\")"
   ]
  },
  {
   "cell_type": "code",
   "execution_count": null,
   "metadata": {},
   "outputs": [
    {
     "name": "stdout",
     "output_type": "stream",
     "text": [
      "[99]\n"
     ]
    }
   ],
   "source": [
    "step1=[]\n",
    "d=2\n",
    "for i in range(100):\n",
    "    if i%d!=0 and d!=i:  \n",
    "step1.append(i)\n",
    "\n",
    "print(step1)\n",
    "            "
   ]
  },
  {
   "cell_type": "code",
   "execution_count": 104,
   "metadata": {},
   "outputs": [
    {
     "name": "stdout",
     "output_type": "stream",
     "text": [
      "[2, 3, 4, 5, 7, 11, 13, 17, 19, 23, 29, 31, 37, 41, 43, 47, 53, 59, 61, 67, 71, 73, 79, 83, 89, 97]\n"
     ]
    }
   ],
   "source": [
    "step1=[]\n",
    "for i in range(2,101):\n",
    "\n",
    "    is_prime=True\n",
    "    for x in range(2,int(i/2)):\n",
    "        if i%x==0:\n",
    "            is_prime=False\n",
    "            break\n",
    "    if is_prime:\n",
    "        step1.append(i)\n",
    "print(step1)\n"
   ]
  },
  {
   "cell_type": "code",
   "execution_count": 21,
   "metadata": {},
   "outputs": [
    {
     "name": "stdout",
     "output_type": "stream",
     "text": [
      "[1, 2, 6, 7]\n"
     ]
    }
   ],
   "source": [
    "list1=[1,2,3,4,5]\n",
    "list2=[3,4,5,6,7]\n",
    "list3=[]\n",
    "for i in range(len(list1)):\n",
    "    if list1[i] not in list2:\n",
    "        list3.append(list1[i])\n",
    "for i in range(len(list2)):\n",
    "    if list2[i] not in list1:\n",
    "        list3.append(list2[i])\n",
    "print(list3)"
   ]
  }
 ],
 "metadata": {
  "kernelspec": {
   "display_name": "Python 3",
   "language": "python",
   "name": "python3"
  },
  "language_info": {
   "codemirror_mode": {
    "name": "ipython",
    "version": 3
   },
   "file_extension": ".py",
   "mimetype": "text/x-python",
   "name": "python",
   "nbconvert_exporter": "python",
   "pygments_lexer": "ipython3",
   "version": "3.13.2"
  }
 },
 "nbformat": 4,
 "nbformat_minor": 2
}
